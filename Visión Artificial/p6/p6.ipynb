{
 "cells": [
  {
   "cell_type": "code",
   "execution_count": 1,
   "id": "2095eff7",
   "metadata": {},
   "outputs": [
    {
     "data": {
      "text/html": [
       "<div>\n",
       "<style scoped>\n",
       "    .dataframe tbody tr th:only-of-type {\n",
       "        vertical-align: middle;\n",
       "    }\n",
       "\n",
       "    .dataframe tbody tr th {\n",
       "        vertical-align: top;\n",
       "    }\n",
       "\n",
       "    .dataframe thead th {\n",
       "        text-align: right;\n",
       "    }\n",
       "</style>\n",
       "<table border=\"1\" class=\"dataframe\">\n",
       "  <thead>\n",
       "    <tr style=\"text-align: right;\">\n",
       "      <th></th>\n",
       "      <th>area</th>\n",
       "      <th>circularity</th>\n",
       "      <th>extent</th>\n",
       "      <th>perimeter</th>\n",
       "      <th>solidity</th>\n",
       "    </tr>\n",
       "  </thead>\n",
       "  <tbody>\n",
       "    <tr>\n",
       "      <th>0</th>\n",
       "      <td>527</td>\n",
       "      <td>0.42862</td>\n",
       "      <td>0.60297</td>\n",
       "      <td>124.30</td>\n",
       "      <td>0.78074</td>\n",
       "    </tr>\n",
       "    <tr>\n",
       "      <th>1</th>\n",
       "      <td>291</td>\n",
       "      <td>0.31266</td>\n",
       "      <td>0.59877</td>\n",
       "      <td>108.15</td>\n",
       "      <td>0.88450</td>\n",
       "    </tr>\n",
       "    <tr>\n",
       "      <th>2</th>\n",
       "      <td>573</td>\n",
       "      <td>0.32199</td>\n",
       "      <td>0.50087</td>\n",
       "      <td>149.54</td>\n",
       "      <td>0.68214</td>\n",
       "    </tr>\n",
       "    <tr>\n",
       "      <th>3</th>\n",
       "      <td>536</td>\n",
       "      <td>0.13738</td>\n",
       "      <td>0.19648</td>\n",
       "      <td>221.42</td>\n",
       "      <td>0.33967</td>\n",
       "    </tr>\n",
       "    <tr>\n",
       "      <th>4</th>\n",
       "      <td>553</td>\n",
       "      <td>0.31874</td>\n",
       "      <td>0.53173</td>\n",
       "      <td>147.66</td>\n",
       "      <td>0.69912</td>\n",
       "    </tr>\n",
       "  </tbody>\n",
       "</table>\n",
       "</div>"
      ],
      "text/plain": [
       "   area  circularity   extent  perimeter  solidity\n",
       "0   527      0.42862  0.60297     124.30   0.78074\n",
       "1   291      0.31266  0.59877     108.15   0.88450\n",
       "2   573      0.32199  0.50087     149.54   0.68214\n",
       "3   536      0.13738  0.19648     221.42   0.33967\n",
       "4   553      0.31874  0.53173     147.66   0.69912"
      ]
     },
     "execution_count": 1,
     "metadata": {},
     "output_type": "execute_result"
    }
   ],
   "source": [
    "import pandas as pd\n",
    "\n",
    "df = pd.read_csv(\"data.csv\")\n",
    "df.head()"
   ]
  },
  {
   "cell_type": "code",
   "execution_count": 2,
   "id": "ccd77de7",
   "metadata": {},
   "outputs": [
    {
     "data": {
      "image/png": "[encoded data removed]",
      "text/plain": [
       "<Figure size 640x480 with 1 Axes>"
      ]
     },
     "metadata": {},
     "output_type": "display_data"
    }
   ],
   "source": [
    "import warnings\n",
    "warnings.filterwarnings(\"ignore\")\n",
    "\n",
    "from sklearn.cluster import KMeans\n",
    "import matplotlib.pyplot as plt\n",
    "\n",
    "wcss = []\n",
    "for j in range(1,20):\n",
    "    # print('Realizando kMeans con ' + str(j) + \" kluster's\")\n",
    "    kmeans = KMeans(n_clusters=j)\n",
    "    kmeans.fit(df)\n",
    "    wcss.append(kmeans.inertia_)\n",
    "\n",
    "plt.plot(range(1,20), wcss,'o-')\n",
    "plt.title(\"Codo de Jambú\")\n",
    "plt.xlabel('N - Clusters')\n",
    "plt.ylabel('WCSS')\n",
    "plt.grid()\n",
    "plt.show()"
   ]
  },
  {
   "cell_type": "code",
   "execution_count": 3,
   "id": "7f9aa3dd",
   "metadata": {},
   "outputs": [
    {
     "name": "stdout",
     "output_type": "stream",
     "text": [
      "[ Iniciando clusterizacion ]\n",
      "[ Clusterizacion terminada ]\n"
     ]
    }
   ],
   "source": [
    "import numpy as np\n",
    "import math\n",
    "\n",
    "data = pd.DataFrame(df).to_numpy()\n",
    "centroids = pd.DataFrame(df.sample(5)).to_numpy()\n",
    "\n",
    "def euclideanDistance(data, centroids):\n",
    "\tdist = np.zeros(5)\n",
    "\tfor currentCentroid in range(5):\n",
    "\t\tdist[currentCentroid] += math.dist(data, centroids[currentCentroid])\n",
    "\treturn np.sqrt(dist)\n",
    "\n",
    "print(\"[ Iniciando clusterizacion ]\")\n",
    "\n",
    "labels = np.zeros(len(data))\n",
    "labels\n",
    "\n",
    "class0 = []\n",
    "class1 = []\n",
    "class2 = []\n",
    "class3 = []\n",
    "class4 = []\n",
    "\n",
    "newCentroids = np.zeros((5,5))\n",
    "while(1):\n",
    "\tfor row in range(len(data)):\n",
    "\t\t# print(row)\n",
    "\t\tdist = euclideanDistance(data[row], centroids)\n",
    "\t\t# print(dist)\n",
    "\t\tlabels[row] = np.argmin(dist)\n",
    "\t\t# print(labels[row],\"\\n\")\n",
    "\t\tif labels[row] == 0:\n",
    "\t\t\tclass0.append(data[row])\n",
    "\t\telif labels[row] == 1:\n",
    "\t\t\tclass1.append(data[row])\n",
    "\t\telif labels[row] == 2:\n",
    "\t\t\tclass2.append(data[row])\n",
    "\t\telif labels[row] == 3:\n",
    "\t\t\tclass3.append(data[row])\n",
    "\t\telif labels[row] == 4:\n",
    "\t\t\tclass4.append(data[row])\n",
    "\n",
    "\tnewCentroids[0] = np.mean(class0, axis=0)\n",
    "\tnewCentroids[1] = np.mean(class1, axis=0)\n",
    "\tnewCentroids[2] = np.mean(class2, axis=0)\n",
    "\tnewCentroids[3] = np.mean(class3, axis=0)\n",
    "\tnewCentroids[4] = np.mean(class4, axis=0)\n",
    "\n",
    "\tif (centroids == newCentroids).all():\n",
    "\t\tbreak\n",
    "\telse:\n",
    "\t\tcentroids = newCentroids\n",
    "\n",
    "print(\"[ Clusterizacion terminada ]\")"
   ]
  },
  {
   "cell_type": "code",
   "execution_count": 13,
   "id": "6b100192",
   "metadata": {},
   "outputs": [
    {
     "name": "stdout",
     "output_type": "stream",
     "text": [
      "El dato  101  pertenece a la clase  1\n"
     ]
    }
   ],
   "source": [
    "def classify(data, centroids):\n",
    "    dist = euclideanDistance(data,centroids)\n",
    "    return np.argmin(dist)\n",
    "\n",
    "id = int(input(\"Ingrese el id del objeto a identificar: \"))\n",
    "\n",
    "print(\"El dato \", id, \" pertenece a la clase \", classify(data[id], centroids))"
   ]
  }
 ],
 "metadata": {
  "kernelspec": {
   "display_name": "Python 3 (ipykernel)",
   "language": "python",
   "name": "python3"
  },
  "language_info": {
   "codemirror_mode": {
    "name": "ipython",
    "version": 3
   },
   "file_extension": ".py",
   "mimetype": "text/x-python",
   "name": "python",
   "nbconvert_exporter": "python",
   "pygments_lexer": "ipython3",
   "version": "3.9.16"
  }
 },
 "nbformat": 4,
 "nbformat_minor": 5
}
