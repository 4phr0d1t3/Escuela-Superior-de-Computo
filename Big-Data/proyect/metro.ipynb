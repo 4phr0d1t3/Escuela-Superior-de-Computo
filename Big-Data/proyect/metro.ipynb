{
 "cells": [
  {
   "cell_type": "code",
   "execution_count": 2,
   "metadata": {},
   "outputs": [],
   "source": [
    "from pdf2image import convert_from_path\n",
    "\n",
    "pdf_path = 'metro.pdf'\n",
    "dpi = 600\n",
    "\n",
    "images = convert_from_path(pdf_path, dpi=dpi)\n",
    "\n",
    "images[0].save(f'metro.png', 'PNG')"
   ]
  },
  {
   "cell_type": "code",
   "execution_count": 13,
   "metadata": {},
   "outputs": [
    {
     "name": "stdout",
     "output_type": "stream",
     "text": [
      "[ All images have been processed ]\n"
     ]
    }
   ],
   "source": [
    "from PIL import Image\n",
    "import os\n",
    "import numpy as np\n",
    "\n",
    "binary_mask = Image.open('shape.png')\n",
    "binary_mask = binary_mask.convert('1') \n",
    "\n",
    "image_folder = 'icons/'\n",
    "\n",
    "output_folder = 'processed/'\n",
    "os.makedirs(output_folder, exist_ok=True)\n",
    "\n",
    "png_images = [f for f in os.listdir(image_folder) if f.endswith('.png')]\n",
    "\n",
    "binary_mask = np.array(binary_mask)\n",
    "\n",
    "for image_filename in png_images:\n",
    "    image_path = os.path.join(image_folder, image_filename)\n",
    "    image = Image.open(image_path)\n",
    "\n",
    "    image_array = np.array(image)\n",
    "\n",
    "    result_image = np.dstack([image_array[:, :, 0] * binary_mask, image_array[:, :, 1] * binary_mask, image_array[:, :, 2] * binary_mask])\n",
    "\n",
    "    result_image = Image.fromarray(result_image)\n",
    "\n",
    "    gray_image = result_image.convert('L')\n",
    "    threshold = 200\n",
    "\n",
    "    binary_image = gray_image.point(lambda p: p > threshold and 255)\n",
    "\n",
    "    result_filename = os.path.join(output_folder, image_filename)\n",
    "    binary_image.save(result_filename)\n",
    "\n",
    "print(\"[ All images have been processed ]\")"
   ]
  }
 ],
 "metadata": {
  "kernelspec": {
   "display_name": "S",
   "language": "python",
   "name": "python3"
  },
  "language_info": {
   "codemirror_mode": {
    "name": "ipython",
    "version": 3
   },
   "file_extension": ".py",
   "mimetype": "text/x-python",
   "name": "python",
   "nbconvert_exporter": "python",
   "pygments_lexer": "ipython3",
   "version": "3.11.4"
  },
  "orig_nbformat": 4
 },
 "nbformat": 4,
 "nbformat_minor": 2
}
