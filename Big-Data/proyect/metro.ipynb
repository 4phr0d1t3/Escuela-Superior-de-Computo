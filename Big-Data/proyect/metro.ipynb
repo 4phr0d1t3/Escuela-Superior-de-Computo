{
 "cells": [
  {
   "cell_type": "code",
   "execution_count": 2,
   "metadata": {},
   "outputs": [],
   "source": [
    "from pdf2image import convert_from_path\n",
    "\n",
    "pdf_path = 'metro.pdf'\n",
    "dpi = 600\n",
    "\n",
    "images = convert_from_path(pdf_path, dpi=dpi)\n",
    "\n",
    "images[0].save(f'metro.png', 'PNG')"
   ]
  },
  {
   "cell_type": "code",
   "execution_count": 13,
   "metadata": {},
   "outputs": [
    {
     "name": "stdout",
     "output_type": "stream",
     "text": [
      "[ All images have been processed ]\n"
     ]
    }
   ],
   "source": [
    "from PIL import Image\n",
    "import os\n",
    "import numpy as np\n",
    "\n",
    "binary_mask = Image.open('shape.png')\n",
    "binary_mask = binary_mask.convert('1') \n",
    "\n",
    "image_folder = 'icons/'\n",
    "\n",
    "output_folder = 'processed/'\n",
    "os.makedirs(output_folder, exist_ok=True)\n",
    "\n",
    "png_images = [f for f in os.listdir(image_folder) if f.endswith('.png')]\n",
    "\n",
    "binary_mask = np.array(binary_mask)\n",
    "\n",
    "for image_filename in png_images:\n",
    "    image_path = os.path.join(image_folder, image_filename)\n",
    "    image = Image.open(image_path)\n",
    "\n",
    "    image_array = np.array(image)\n",
    "\n",
    "    result_image = np.dstack([image_array[:, :, 0] * binary_mask, image_array[:, :, 1] * binary_mask, image_array[:, :, 2] * binary_mask])\n",
    "\n",
    "    result_image = Image.fromarray(result_image)\n",
    "\n",
    "    gray_image = result_image.convert('L')\n",
    "    threshold = 200\n",
    "\n",
    "    binary_image = gray_image.point(lambda p: p > threshold and 255)\n",
    "\n",
    "    result_filename = os.path.join(output_folder, image_filename)\n",
    "    binary_image.save(result_filename)\n",
    "\n",
    "print(\"[ All images have been processed ]\")"
   ]
  },
  {
   "cell_type": "code",
   "execution_count": 28,
   "metadata": {},
   "outputs": [
    {
     "name": "stdout",
     "output_type": "stream",
     "text": [
      "[ Data augmentation complete ]\n"
     ]
    }
   ],
   "source": [
    "import cv2\n",
    "import os\n",
    "import numpy as np\n",
    "\n",
    "input_folder = 'icons'\n",
    "output_folder = 'augmented_images_color'\n",
    "\n",
    "# input_folder = 'processed'\n",
    "# output_folder = 'augmented_images_B&W'\n",
    "\n",
    "os.makedirs(output_folder, exist_ok=True)\n",
    "\n",
    "def rotate(random, image):\n",
    "    # Rotate by a random angle\n",
    "    angle = random.uniform(-10, 10)\n",
    "    image = cv2.warpAffine(image, cv2.getRotationMatrix2D((133 / 2, 133 / 2), angle, 1), (133, 133))\n",
    "\n",
    "    return image\n",
    "\n",
    "def brightnessAndContrast(random, image):\n",
    "    # Randomly adjust brightness and contrast\n",
    "    alpha = 1 + random.uniform(-0.2, 0.2)\n",
    "    beta = 0 + random.uniform(-20, 20)\n",
    "    image = cv2.convertScaleAbs(image, alpha=alpha, beta=beta)\n",
    "\n",
    "    return image\n",
    "\n",
    "def GaussianNoise(image):\n",
    "    # Randomly add Gaussian noise\n",
    "    noise = np.random.normal(0, 20, image.shape).astype(np.uint8)\n",
    "    image = cv2.add(image, noise)\n",
    "\n",
    "    return image\n",
    "\n",
    "def augmentImage(image, modifier):\n",
    "    # Apply a random combination of augmentations\n",
    "    random_seed = np.random.randint(1, 100)\n",
    "    random = np.random.RandomState(random_seed)\n",
    "\n",
    "    match(modifier):\n",
    "        case 0:\n",
    "            return rotate(random, image)\n",
    "        case 1:\n",
    "            return brightnessAndContrast(random, image)\n",
    "        case 2:\n",
    "            return GaussianNoise(image)\n",
    "        case 3:\n",
    "            return image\n",
    "\n",
    "id = 0\n",
    "for filename in os.listdir(input_folder):\n",
    "\n",
    "    if filename.endswith('.jpg') or filename.endswith('.png'):\n",
    "\n",
    "        image_path = os.path.join(input_folder, filename)\n",
    "        image = cv2.imread(image_path)\n",
    "\n",
    "        for modifier in range(0,4):\n",
    "\n",
    "            augmented_image = augmentImage(image, modifier)\n",
    "\n",
    "            output_path = os.path.join(output_folder, str(id) + '_' + filename)\n",
    "\n",
    "            cv2.imwrite(output_path, augmented_image)\n",
    "\n",
    "            id += 1\n",
    "\n",
    "print(\"[ Data augmentation complete ]\")"
   ]
  },
  {
   "cell_type": "code",
   "execution_count": null,
   "metadata": {},
   "outputs": [],
   "source": [
    "780"
   ]
  }
 ],
 "metadata": {
  "kernelspec": {
   "display_name": "S",
   "language": "python",
   "name": "python3"
  },
  "language_info": {
   "codemirror_mode": {
    "name": "ipython",
    "version": 3
   },
   "file_extension": ".py",
   "mimetype": "text/x-python",
   "name": "python",
   "nbconvert_exporter": "python",
   "pygments_lexer": "ipython3",
   "version": "3.11.4"
  },
  "orig_nbformat": 4
 },
 "nbformat": 4,
 "nbformat_minor": 2
}
